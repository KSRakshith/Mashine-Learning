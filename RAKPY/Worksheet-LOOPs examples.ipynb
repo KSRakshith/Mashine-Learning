{
 "cells": [
  {
   "cell_type": "code",
   "execution_count": null,
   "metadata": {},
   "outputs": [],
   "source": []
  },
  {
   "cell_type": "markdown",
   "metadata": {
    "collapsed": true
   },
   "source": [
    "# List Comprehensions\n",
    "\n",
    "In addition to sequence operations and list methods, Python includes a more advanced operation called a list comprehension.\n",
    "\n",
    "List comprehensions allow us to build out lists using a different notation. You can think of it as essentially a one line <code>for</code> loop built inside of brackets. For a simple example:\n",
    "#### Example 1"
   ]
  },
  {
   "cell_type": "code",
   "execution_count": 2,
   "metadata": {},
   "outputs": [
    {
     "data": {
      "text/plain": [
       "['w', 'o', 'r', 'd', 's']"
      ]
     },
     "execution_count": 2,
     "metadata": {},
     "output_type": "execute_result"
    }
   ],
   "source": [
    "# Grab every letter in string\n",
    "s1='words'\n",
    "list(s1)"
   ]
  },
  {
   "cell_type": "markdown",
   "metadata": {},
   "source": [
    "\n",
    "#### Example 2"
   ]
  },
  {
   "cell_type": "code",
   "execution_count": 8,
   "metadata": {},
   "outputs": [
    {
     "name": "stdout",
     "output_type": "stream",
     "text": [
      "[0, 1, 4, 9, 16, 25]\n"
     ]
    }
   ],
   "source": [
    "# Square numbers in range and turn into list\n",
    "l=[]\n",
    "for i in range(6):\n",
    "    l.append(i**2)\n",
    "print(l)"
   ]
  },
  {
   "cell_type": "markdown",
   "metadata": {},
   "source": [
    "#### Example 3\n",
    "Let's see how to add in <code>if</code> statements:"
   ]
  },
  {
   "cell_type": "code",
   "execution_count": 16,
   "metadata": {},
   "outputs": [
    {
     "data": {
      "text/plain": [
       "[0, 2, 4, 6, 8, 10]"
      ]
     },
     "execution_count": 16,
     "metadata": {},
     "output_type": "execute_result"
    }
   ],
   "source": [
    "# Check for even numbers in a range\n",
    "l=[]\n",
    "for i in range(11):\n",
    "    if(i%2==0):\n",
    "        l.append(i)\n",
    "l"
   ]
  },
  {
   "cell_type": "code",
   "execution_count": 20,
   "metadata": {},
   "outputs": [
    {
     "data": {
      "text/plain": [
       "[0, 2, 4, 6, 8, 10]"
      ]
     },
     "execution_count": 20,
     "metadata": {},
     "output_type": "execute_result"
    }
   ],
   "source": [
    "l1=[x for x in range(11) if x%2==0]\n",
    "l1"
   ]
  },
  {
   "cell_type": "markdown",
   "metadata": {},
   "source": [
    "#### Example 4\n",
    "Can also do more complicated arithmetic:"
   ]
  },
  {
   "cell_type": "code",
   "execution_count": 25,
   "metadata": {},
   "outputs": [
    {
     "data": {
      "text/plain": [
       "[32, 50, 68, 94]"
      ]
     },
     "execution_count": 25,
     "metadata": {},
     "output_type": "execute_result"
    }
   ],
   "source": [
    "# Convert Celsius to Fahrenheit\n",
    "celsius = [0,10,20.1,34.5]\n",
    "Fahrenheit=[round(x*9/5+32) for x in celsius]\n",
    "Fahrenheit\n",
    "    \n",
    "\n"
   ]
  },
  {
   "cell_type": "markdown",
   "metadata": {},
   "source": [
    "#### Example 5\n",
    "We can also perform nested list comprehensions, for example:"
   ]
  },
  {
   "cell_type": "code",
   "execution_count": 29,
   "metadata": {},
   "outputs": [
    {
     "data": {
      "text/plain": [
       "[0, 1, 16, 81, 256, 625, 1296, 2401, 4096, 6561, 10000]"
      ]
     },
     "execution_count": 29,
     "metadata": {},
     "output_type": "execute_result"
    }
   ],
   "source": [
    "lst=[x**2 for x in [x**2 for x in range(11)]]\n",
    "lst\n"
   ]
  },
  {
   "cell_type": "markdown",
   "metadata": {},
   "source": [
    "# Exercise:\n"
   ]
  },
  {
   "cell_type": "markdown",
   "metadata": {},
   "source": [
    "####  Write a Python program to find those numbers which are divisible by 7 and multiple of 5, between 1500 and 2700 (both included)"
   ]
  },
  {
   "cell_type": "code",
   "execution_count": 37,
   "metadata": {},
   "outputs": [
    {
     "data": {
      "text/plain": [
       "[1505,\n",
       " 1540,\n",
       " 1575,\n",
       " 1610,\n",
       " 1645,\n",
       " 1680,\n",
       " 1715,\n",
       " 1750,\n",
       " 1785,\n",
       " 1820,\n",
       " 1855,\n",
       " 1890,\n",
       " 1925,\n",
       " 1960,\n",
       " 1995,\n",
       " 2030,\n",
       " 2065,\n",
       " 2100,\n",
       " 2135,\n",
       " 2170,\n",
       " 2205,\n",
       " 2240,\n",
       " 2275,\n",
       " 2310,\n",
       " 2345,\n",
       " 2380,\n",
       " 2415,\n",
       " 2450,\n",
       " 2485,\n",
       " 2520,\n",
       " 2555,\n",
       " 2590,\n",
       " 2625,\n",
       " 2660,\n",
       " 2695]"
      ]
     },
     "execution_count": 37,
     "metadata": {},
     "output_type": "execute_result"
    }
   ],
   "source": [
    "l=[i for i in range(1500,2701) if i%7==0 and i%5==0]\n",
    "l\n"
   ]
  },
  {
   "cell_type": "markdown",
   "metadata": {},
   "source": [
    "#### Write a Python program to convert temperatures to and from celsius, fahrenheit.\n",
    "[ Formula : c/5 = f-32/9 [ where c = temperature in celsius and f = temperature in fahrenheit ] \n",
    "\n",
    "Expected Output : \n",
    "\n",
    "60°C is 140 in Fahrenheit\n",
    "\n",
    "45°F is 7 in Celsius "
   ]
  },
  {
   "cell_type": "code",
   "execution_count": 59,
   "metadata": {},
   "outputs": [
    {
     "name": "stdout",
     "output_type": "stream",
     "text": [
      "enter the temperature :45\n",
      "Input the  temperature you like to convert? (e.g., 45F, 102C etc.) : f\n",
      "Celsius : 7.222222222222222\n"
     ]
    }
   ],
   "source": [
    "temp=int(input('enter the temperature :'))\n",
    "choice = input(\"Input the  temperature you like to convert? (e.g., 45F, 102C etc.) : \")\n",
    "ch=choice.upper()\n",
    "if ch=='F':\n",
    "    cel=(temp-32)/9*5\n",
    "    print('Celsius :',cel)\n",
    "elif ch=='C':\n",
    "    far=temp/5*9+32\n",
    "    print('Fahenheit :',far)\n",
    "else:\n",
    "    print('Invalid Choice pleace enter C and F')"
   ]
  },
  {
   "cell_type": "markdown",
   "metadata": {},
   "source": [
    "#### Write a Python program to check whether an alphabet is a vowel or consonant\n"
   ]
  },
  {
   "cell_type": "code",
   "execution_count": 57,
   "metadata": {},
   "outputs": [
    {
     "name": "stdout",
     "output_type": "stream",
     "text": [
      "Enter the Word :B\n",
      "b  is consonant\n"
     ]
    }
   ],
   "source": [
    "letter=input('Enter the Word :')\n",
    "l=letter.lower()\n",
    "if l in ['a','e','i','o','u'] :\n",
    "    print(l,' is Vowel')\n",
    "else:\n",
    "    print(l,' is consonant')\n",
    "    \n"
   ]
  },
  {
   "cell_type": "markdown",
   "metadata": {},
   "source": [
    "####   Write a Python program to get the sum of two given integers. However, if the sum is between 15 to 20 it will return 20."
   ]
  },
  {
   "cell_type": "code",
   "execution_count": 62,
   "metadata": {},
   "outputs": [
    {
     "name": "stdout",
     "output_type": "stream",
     "text": [
      "enter the no.20\n",
      "enter the no.20\n",
      "RESULT : 40\n"
     ]
    }
   ],
   "source": [
    "a=int(input('enter the no.'))\n",
    "b=int(input('enter the no.'))\n",
    "\n",
    "res=a+b\n",
    "\n",
    "if(res>=15 and res<=20):\n",
    "   print('RESULT : 20')\n",
    "else:\n",
    "   print('RESULT :',res)\n",
    "   "
   ]
  },
  {
   "cell_type": "markdown",
   "metadata": {},
   "source": [
    "####  Write a Python program that prints the total number of days in a month if  month name is given\n"
   ]
  },
  {
   "cell_type": "code",
   "execution_count": 1,
   "metadata": {},
   "outputs": [
    {
     "name": "stdout",
     "output_type": "stream",
     "text": [
      "enter the month :june\n",
      "days : 30\n"
     ]
    }
   ],
   "source": [
    "dict={'jan':31,'feb':28,'mar':31,'apr':30,'may':31,'june':30,'july':31,'aug':31,'sep':30,'oct':31,'nov':30,'dec':31}\n",
    "month=input('enter the month :')\n",
    "m=dict.get(month)\n",
    "print('days :',m)"
   ]
  },
  {
   "cell_type": "markdown",
   "metadata": {},
   "source": [
    "#### Write a Python program to display astrological sign for given date of birth. \n",
    "\n",
    "Expected Output:\n",
    "\n",
    "Input birthday: 15                                                      \n",
    "\n",
    "Input month of birth (e.g. march, july etc): may                        \n",
    "\n",
    "Your Astrological sign is : Taurus"
   ]
  },
  {
   "cell_type": "code",
   "execution_count": 5,
   "metadata": {},
   "outputs": [
    {
     "name": "stdout",
     "output_type": "stream",
     "text": [
      "enter the date:20\n",
      "enter the month:jan\n",
      "Aqurius\n"
     ]
    }
   ],
   "source": [
    "date=int(input('enter the date:'))\n",
    "month=input('enter the month:')\n",
    "m=['jan','feb','mar','apr','may','june','july','aug','sep','oct','nov','dec']\n",
    "\n",
    "if (month==m[2] and date>=21) or (month==m[3] and date<=19):\n",
    "    print('Aries')\n",
    "\n",
    "        \n",
    "elif (month==m[3] and date>=20) or (month==m[4] and date<=20):\n",
    "     print('Taurus')\n",
    "\n",
    "               \n",
    "elif (month==m[4] and date>=21) or (month==m[5] and date<=20):\n",
    "    print('Gemini')\n",
    "       \n",
    "        \n",
    "elif (month==m[5] and date>=21) or (month==m[6] and date<=22):\n",
    "    print('Cancer')\n",
    "    \n",
    "elif (month==m[6] and date>=23) or (month==m[7] and date<=22):\n",
    "    print('Leo')\n",
    "\n",
    "elif (month==m[7] and date>=23) or (month==m[8] and date<=22):\n",
    "    print('Virgo')\n",
    "\n",
    "elif (month==m[8] and date>=23) or (month==m[9] and date<=22):\n",
    "    print('Libra')\n",
    "    \n",
    "elif (month==m[9] and date>=23) or (month==m[10] and date<=21):\n",
    "    print('Scorpio')\n",
    "    \n",
    "elif (month==m[10] and date>=22) or (month==m[11] and date<=21):\n",
    "    print('Sagittarius')\n",
    "    \n",
    "elif (month==m[11] and date>=22) or (month==m[0] and date<=19):\n",
    "    print('Capricorn')\n",
    "    \n",
    "elif (month==m[0] and date>=20) or (month==m[1] and date<=18):\n",
    "    print('Aqurius')\n",
    "    \n",
    "elif (month==m[1] and date>=19) or (month==m[2] and date<=20):\n",
    "    print('Pisces')    \n",
    "\n",
    "else:\n",
    "    print('Invalid Date and Month')"
   ]
  },
  {
   "attachments": {
    "image.png": {
     "image/png": "[encoded data removed]"
    }
   },
   "cell_type": "markdown",
   "metadata": {},
   "source": [
    "####  Write a Python program to print alphabet pattern 'Z'\n",
    "Expected Output:\n",
    "![image.png](attachment:image.png)"
   ]
  },
  {
   "cell_type": "code",
   "execution_count": 11,
   "metadata": {
    "scrolled": true
   },
   "outputs": [
    {
     "name": "stdout",
     "output_type": "stream",
     "text": [
      "********\n",
      "      * \n",
      "     *  \n",
      "    *   \n",
      "   *    \n",
      "  *     \n",
      " *      \n",
      "********\n"
     ]
    }
   ],
   "source": [
    "for i in range(8):\n",
    "    for j in range(8):\n",
    "        if(i==0 or i==7 or i+j==7):\n",
    "            print('*',end='')\n",
    "        else:\n",
    "            print(' ',end='')\n",
    "    print()"
   ]
  },
  {
   "attachments": {
    "image.png": {
     "image/png": "[encoded data removed]"
    }
   },
   "cell_type": "markdown",
   "metadata": {},
   "source": [
    "#### Write a Python program to construct the following pattern, using a nested for loop.\n",
    "\n",
    "![image.png](attachment:image.png)\n"
   ]
  },
  {
   "cell_type": "code",
   "execution_count": 56,
   "metadata": {},
   "outputs": [
    {
     "name": "stdout",
     "output_type": "stream",
     "text": [
      "* \n",
      "* * \n",
      "* * * \n",
      "* * * * \n",
      "* * * * * \n",
      "* * * * \n",
      "* * * \n",
      "* * \n",
      "* \n"
     ]
    }
   ],
   "source": [
    "for j in range(5):\n",
    "    for i in range(5):\n",
    "        if(j==i or j>=i):\n",
    "            print('*',end=' ')\n",
    "    print()\n",
    "for k in range(4):\n",
    "    for l in range(4):\n",
    "        if(k+l<=3):\n",
    "            print('*',end=' ')\n",
    "    print()\n"
   ]
  },
  {
   "cell_type": "code",
   "execution_count": 2,
   "metadata": {},
   "outputs": [
    {
     "name": "stdout",
     "output_type": "stream",
     "text": [
      "\n",
      "* \n",
      "* * \n",
      "* * * \n",
      "* * * * \n",
      "* * * * * \n",
      "* * * * \n",
      "* * * \n",
      "* * \n",
      "* \n"
     ]
    }
   ],
   "source": []
  },
  {
   "attachments": {
    "image.png": {
     "image/png": "[encoded data removed]"
    }
   },
   "cell_type": "markdown",
   "metadata": {},
   "source": [
    "####  Write a Python program to print alphabet pattern 'U'.\n",
    "Expected Output\n",
    "![image.png](attachment:image.png)"
   ]
  },
  {
   "cell_type": "code",
   "execution_count": 127,
   "metadata": {},
   "outputs": [
    {
     "name": "stdout",
     "output_type": "stream",
     "text": [
      "*       * \n",
      "*       * \n",
      "*       * \n",
      "*       * \n",
      "*       * \n",
      "*       * \n",
      "*       * \n",
      "  * * *   \n"
     ]
    }
   ],
   "source": [
    "for i in range(8):\n",
    "    for j in range(5):\n",
    "        if (j==0 or j==4) and (i!=7) or ( i==7 and j>0 and j<4):\n",
    "            print('*',end=' ')\n",
    "\n",
    "        else:\n",
    "            print(' ',end=' ')\n",
    "    print()\n",
    "\n",
    "   "
   ]
  },
  {
   "attachments": {
    "image.png": {
     "image/png": "[encoded data removed]"
    }
   },
   "cell_type": "markdown",
   "metadata": {},
   "source": [
    "####  Write a Python program to print alphabet pattern 'T'\n",
    "Expected Output:\n",
    "![image.png](attachment:image.png)"
   ]
  },
  {
   "cell_type": "code",
   "execution_count": 121,
   "metadata": {},
   "outputs": [
    {
     "name": "stdout",
     "output_type": "stream",
     "text": [
      "* * * * * \n",
      "    *     \n",
      "    *     \n",
      "    *     \n",
      "    *     \n",
      "    *     \n",
      "    *     \n"
     ]
    }
   ],
   "source": [
    "for i in range(7):\n",
    "    for j in range(5):\n",
    "        if(i==0 or j==2):\n",
    "            print('*',end=' ')\n",
    "        else:\n",
    "            print(' ',end=' ')\n",
    "    print()"
   ]
  },
  {
   "cell_type": "markdown",
   "metadata": {},
   "source": [
    "####  Write a Python program that accepts a word from the user and reverse it."
   ]
  },
  {
   "cell_type": "code",
   "execution_count": 129,
   "metadata": {},
   "outputs": [
    {
     "name": "stdout",
     "output_type": "stream",
     "text": [
      "Enter the word :rakshith\n",
      "htihskar\n"
     ]
    }
   ],
   "source": [
    "word=input('Enter the word :')\n",
    "w=word[::-1]\n",
    "print(w)"
   ]
  },
  {
   "cell_type": "markdown",
   "metadata": {},
   "source": [
    "#### Write a Python program to count the number of even and odd numbers from a series of numbers\n",
    "\n",
    "Sample numbers : numbers = (1, 2, 3, 4, 5, 6, 7, 8, 9) \n",
    "\n",
    "Expected Output : \n",
    "\n",
    "Number of even numbers : 5\n",
    "\n",
    "Number of odd numbers : 4"
   ]
  },
  {
   "cell_type": "code",
   "execution_count": 130,
   "metadata": {},
   "outputs": [
    {
     "name": "stdout",
     "output_type": "stream",
     "text": [
      "Even : 4\n",
      "Odd : 4\n"
     ]
    }
   ],
   "source": [
    "num=(1,2,3,4,5,6,7,8)\n",
    "even=0\n",
    "odd=0\n",
    "for i in num:\n",
    "    if i%2==0:\n",
    "        even+=1\n",
    "    else:\n",
    "        odd+=1\n",
    "print('Even :',even)\n",
    "print('Odd :',odd)"
   ]
  },
  {
   "cell_type": "markdown",
   "metadata": {},
   "source": [
    "#### Write a Python program that prints each item and its corresponding type from the following list.\n",
    "\n",
    "Sample List : datalist = [1452, 11.23, 1+2j, True, 'TestYantra', (0, -1), [5, 12], {\"class\":'V', \"section\":'A'}]"
   ]
  },
  {
   "cell_type": "code",
   "execution_count": 131,
   "metadata": {},
   "outputs": [
    {
     "name": "stdout",
     "output_type": "stream",
     "text": [
      "<class 'int'>\n",
      "<class 'float'>\n",
      "<class 'complex'>\n",
      "<class 'bool'>\n",
      "<class 'str'>\n",
      "<class 'tuple'>\n",
      "<class 'list'>\n",
      "<class 'dict'>\n"
     ]
    }
   ],
   "source": [
    "datalist = [1452, 11.23, 1+2j, True, 'TestYantra', (0, -1), [5, 12], {\"class\":'V', \"section\":'A'}]\n",
    "for i in datalist:\n",
    "    print(type(i))"
   ]
  },
  {
   "cell_type": "markdown",
   "metadata": {},
   "source": [
    "#### Write a Python program that prints all the numbers from 0 to 6 except 3 and 6.\n",
    " \n",
    "Expected Output : 0 1 2 4 5 "
   ]
  },
  {
   "cell_type": "code",
   "execution_count": 137,
   "metadata": {},
   "outputs": [
    {
     "name": "stdout",
     "output_type": "stream",
     "text": [
      "0\n",
      "1\n",
      "2\n",
      "4\n",
      "5\n"
     ]
    }
   ],
   "source": [
    "for i in range(0,7):\n",
    "    if(i==3 or i==6):\n",
    "        continue\n",
    "    print(i)\n",
    "    "
   ]
  },
  {
   "cell_type": "markdown",
   "metadata": {},
   "source": [
    "#### Write a Python program to get the Fibonacci series between 0 to 50\n",
    "\n",
    "Note : The Fibonacci Sequence is the series of numbers :\n",
    "\n",
    "0, 1, 1, 2, 3, 5, 8, 13, 21, .... \n",
    "\n",
    "Every next number is found by adding up the two numbers before it.\n",
    "\n",
    "Expected Output : 1 1 2 3 5 8 13 21 34"
   ]
  },
  {
   "cell_type": "code",
   "execution_count": 183,
   "metadata": {},
   "outputs": [
    {
     "name": "stdout",
     "output_type": "stream",
     "text": [
      "[1, 1, 2, 3, 5, 8, 13, 21, 34, 55, 89, 144, 233, 377, 610, 987, 1597, 2584, 4181, 6765, 10946, 17711, 28657, 46368, 75025, 121393, 196418, 317811, 514229, 832040, 1346269, 2178309, 3524578, 5702887, 9227465, 14930352, 24157817, 39088169, 63245986, 102334155, 165580141, 267914296, 433494437, 701408733, 1134903170, 1836311903, 2971215073, 4807526976, 7778742049, 12586269025, 20365011074, 32951280099]\n"
     ]
    }
   ],
   "source": [
    "l=[1,1]\n",
    "res=0\n",
    "for i in range(1,51):\n",
    "    res=l[i]+l[i-1]\n",
    "    l.append(res)\n",
    "print(l)\n"
   ]
  },
  {
   "cell_type": "markdown",
   "metadata": {},
   "source": [
    "#### Write a Python program to create the multiplication table (from 1 to 10) of a number.\n",
    "\n",
    "Expected Output:\n",
    "\n",
    "Input a number: 6                                                       \n",
    "\n",
    "6 x 1 = 6                                                               \n",
    "\n",
    "6 x 2 = 12                                                              \n",
    "\n",
    "6 x 3 = 18                                                              \n",
    "\n",
    "6 x 4 = 24                                                              \n",
    "\n",
    "6 x 5 = 30                                                              \n",
    "\n",
    "6 x 6 = 36                                                              \n",
    "\n",
    "6 x 7 = 42                                                              \n",
    "\n",
    "6 x 8 = 48                                                              \n",
    "\n",
    "6 x 9 = 54                                                              \n",
    "\n",
    "6 x 10 = 60 "
   ]
  },
  {
   "cell_type": "code",
   "execution_count": 192,
   "metadata": {},
   "outputs": [
    {
     "name": "stdout",
     "output_type": "stream",
     "text": [
      "enter the no. :50\n",
      "50 x 1  =  50\n",
      "50 x 2  =  100\n",
      "50 x 3  =  150\n",
      "50 x 4  =  200\n",
      "50 x 5  =  250\n",
      "50 x 6  =  300\n",
      "50 x 7  =  350\n",
      "50 x 8  =  400\n",
      "50 x 9  =  450\n",
      "50 x 10  =  500\n"
     ]
    }
   ],
   "source": [
    "n=int(input('enter the no. :'))\n",
    "for i in range(1,11):\n",
    "    print(n,'x',i,' = ', n * i)"
   ]
  },
  {
   "cell_type": "markdown",
   "metadata": {},
   "source": [
    "#### Write a Python program to calculate the sum and average of n integer numbers"
   ]
  },
  {
   "cell_type": "code",
   "execution_count": 4,
   "metadata": {},
   "outputs": [
    {
     "name": "stdout",
     "output_type": "stream",
     "text": [
      "enter the no. of integers :3\n",
      "enter the elements :1\n",
      "enter the elements :2\n",
      "enter the elements :3\n",
      "sum : 6\n",
      "avg : 2.0\n"
     ]
    }
   ],
   "source": [
    "n=int(input('enter the no. of integers :'))\n",
    "sm=0\n",
    "avg=0\n",
    "for ele in range(n):\n",
    "    ele=int(input('enter the elements :'))\n",
    "    sm+=ele\n",
    "    avg=sm/n\n",
    "print('sum :',sm) \n",
    "print('avg :',avg)"
   ]
  },
  {
   "cell_type": "code",
   "execution_count": null,
   "metadata": {},
   "outputs": [],
   "source": []
  },
  {
   "cell_type": "code",
   "execution_count": null,
   "metadata": {},
   "outputs": [],
   "source": []
  }
 ],
 "metadata": {
  "kernelspec": {
   "display_name": "Python 3",
   "language": "python",
   "name": "python3"
  },
  "language_info": {
   "codemirror_mode": {
    "name": "ipython",
    "version": 3
   },
   "file_extension": ".py",
   "mimetype": "text/x-python",
   "name": "python",
   "nbconvert_exporter": "python",
   "pygments_lexer": "ipython3",
   "version": "3.7.3"
  }
 },
 "nbformat": 4,
 "nbformat_minor": 2
}
