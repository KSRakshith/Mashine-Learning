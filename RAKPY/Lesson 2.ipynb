{
 "cells": [
  {
   "cell_type": "markdown",
   "metadata": {},
   "source": [
    "# Operators"
   ]
  },
  {
   "cell_type": "code",
   "execution_count": 1,
   "metadata": {},
   "outputs": [
    {
     "data": {
      "text/plain": [
       "False"
      ]
     },
     "execution_count": 1,
     "metadata": {},
     "output_type": "execute_result"
    }
   ],
   "source": [
    "1<0 and 2>1"
   ]
  },
  {
   "cell_type": "code",
   "execution_count": 3,
   "metadata": {},
   "outputs": [
    {
     "data": {
      "text/plain": [
       "True"
      ]
     },
     "execution_count": 3,
     "metadata": {},
     "output_type": "execute_result"
    }
   ],
   "source": [
    "10>9 or 20<10"
   ]
  },
  {
   "cell_type": "code",
   "execution_count": 7,
   "metadata": {},
   "outputs": [
    {
     "name": "stdout",
     "output_type": "stream",
     "text": [
      "enter the name:george\n",
      "welcome  george\n"
     ]
    }
   ],
   "source": [
    "name=input(\"enter the name:\")\n",
    "if name=='sam':\n",
    "    print('Welcome ',name)\n",
    "    \n",
    "elif name=='george':\n",
    "    print('welcome ',name)\n",
    "    \n",
    "else:\n",
    "    print('welcome what is your name')"
   ]
  },
  {
   "cell_type": "code",
   "execution_count": 12,
   "metadata": {},
   "outputs": [],
   "source": [
    "num1=11\n",
    "num2=8\n",
    "num3=10\n"
   ]
  },
  {
   "cell_type": "code",
   "execution_count": 13,
   "metadata": {},
   "outputs": [
    {
     "name": "stdout",
     "output_type": "stream",
     "text": [
      "10\n"
     ]
    }
   ],
   "source": [
    "if num2>num1 and num2<num3: \n",
    "    print(num2)\n",
    "elif num1>num2 and num1<num3:\n",
    "    print(num1)\n",
    "else:\n",
    "    print(num3)\n",
    "  \n",
    "    "
   ]
  },
  {
   "cell_type": "code",
   "execution_count": null,
   "metadata": {},
   "outputs": [],
   "source": [
    "date=int(input('enter the date:'))\n",
    "month=input('enter the month:')\n",
    "if month=='june' or month=='july' or month=='aug' or month=='sep':\n",
    "    if date>0 or date<=30:\n",
    "        print('summer')\n",
    "if month=='sep' or month=='dec':\n",
    "    if date>0 or  date<=19:\n",
    "        print('autumn')\n",
    "if month=='dec' or month=='jan' or month=='feb' or month=='mar':\n",
    "    if date>0 or date<=19:\n",
    "        print('winter')\n",
    "if month=='mar' or month=='apr' or month=='may' or month=='june':\n",
    "    if date>0 or date<=30:\n",
    "        print('spring')\n",
    "    \n",
    "    "
   ]
  },
  {
   "cell_type": "code",
   "execution_count": 2,
   "metadata": {},
   "outputs": [
    {
     "name": "stdout",
     "output_type": "stream",
     "text": [
      "enter the date:20\n",
      "enter the month:dec\n",
      "winter\n"
     ]
    }
   ],
   "source": [
    "date=int(input('enter the date:'))\n",
    "month=input('enter the month:')\n",
    "m=['jan','feb','mar','apr','may','june','july','aug','sep','oct','nov','dec']\n",
    "\n",
    "if (month==m[5] and date>=20) or (month==m[8] and date<=19):\n",
    "    print('summer')\n",
    "elif  month==m[6] or month==m[7]:\n",
    "    print('summer')\n",
    "        \n",
    "        \n",
    "if (month==m[8] and date>=20) or (month==m[11] and date<=19):\n",
    "     print('autumn')\n",
    "elif  month==m[9] or month==m[10]:\n",
    "     print('autumn')\n",
    "       \n",
    "        \n",
    "if (month==m[11] and date>=20) or (month==m[2] and date<=19):\n",
    "    print('winter')\n",
    "elif  month==m[0] or month==m[1]:\n",
    "    print('winter')\n",
    "        \n",
    "        \n",
    "if (month==m[2] and date>=20) or (month==m[5] and date<=19):\n",
    "    print('spring')\n",
    "elif  month==m[3] or month==m[4]:\n",
    "    print('spring')\n",
    "        \n",
    "    \n"
   ]
  },
  {
   "cell_type": "code",
   "execution_count": null,
   "metadata": {},
   "outputs": [],
   "source": []
  },
  {
   "cell_type": "code",
   "execution_count": null,
   "metadata": {},
   "outputs": [],
   "source": []
  },
  {
   "cell_type": "code",
   "execution_count": 1,
   "metadata": {},
   "outputs": [
    {
     "name": "stdout",
     "output_type": "stream",
     "text": [
      "9\n",
      "7\n",
      "5\n",
      "3\n",
      "1\n"
     ]
    }
   ],
   "source": [
    "n=10\n",
    "while n!=0:\n",
    "    if n%2!=0:\n",
    "        print(n)\n",
    "    n-=1"
   ]
  },
  {
   "cell_type": "code",
   "execution_count": 2,
   "metadata": {},
   "outputs": [
    {
     "data": {
      "text/plain": [
       "[11, 10, 9, 8, 7, 6, 5, 4, 3, 2, 1, 0]"
      ]
     },
     "execution_count": 2,
     "metadata": {},
     "output_type": "execute_result"
    }
   ],
   "source": [
    "list(range(11,-1,-1))"
   ]
  },
  {
   "cell_type": "code",
   "execution_count": 4,
   "metadata": {},
   "outputs": [
    {
     "name": "stdout",
     "output_type": "stream",
     "text": [
      "3\n"
     ]
    }
   ],
   "source": [
    "l=[1,2,3,4,5]\n",
    "for i,v in enumerate(l):\n",
    "    if v==4:\n",
    "        print(i)\n",
    "        "
   ]
  },
  {
   "cell_type": "code",
   "execution_count": 1,
   "metadata": {},
   "outputs": [
    {
     "name": "stdout",
     "output_type": "stream",
     "text": [
      "3\n"
     ]
    }
   ],
   "source": [
    "l=[1,2,3,4,5]\n",
    "for i in range(0,len(l)):\n",
    "    if l[i]==4:\n",
    "        print(i)"
   ]
  },
  {
   "cell_type": "code",
   "execution_count": 17,
   "metadata": {},
   "outputs": [
    {
     "data": {
      "text/plain": [
       "<zip at 0x6d409c8>"
      ]
     },
     "execution_count": 17,
     "metadata": {},
     "output_type": "execute_result"
    }
   ],
   "source": [
    "l1=[1,2,3,4]\n",
    "l2=[5,6,7,8]\n",
    "l3=zip(l1,l2)\n",
    "l3"
   ]
  },
  {
   "cell_type": "code",
   "execution_count": null,
   "metadata": {},
   "outputs": [],
   "source": []
  }
 ],
 "metadata": {
  "kernelspec": {
   "display_name": "Python 3",
   "language": "python",
   "name": "python3"
  },
  "language_info": {
   "codemirror_mode": {
    "name": "ipython",
    "version": 3
   },
   "file_extension": ".py",
   "mimetype": "text/x-python",
   "name": "python",
   "nbconvert_exporter": "python",
   "pygments_lexer": "ipython3",
   "version": "3.7.3"
  }
 },
 "nbformat": 4,
 "nbformat_minor": 2
}
