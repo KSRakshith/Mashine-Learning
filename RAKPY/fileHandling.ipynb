{
 "cells": [
  {
   "cell_type": "code",
   "execution_count": 20,
   "metadata": {},
   "outputs": [
    {
     "name": "stdout",
     "output_type": "stream",
     "text": [
      "Rakshith ks\n",
      "is\n",
      "a\n",
      "Datascientist\n",
      "Rakshith ks\n",
      "is\n",
      "a\n",
      "Datascientist\n"
     ]
    }
   ],
   "source": [
    "f=open('data.txt','r')\n",
    "print(f.read())\n",
    "f.seek(0)\n",
    "print(f.read())\n",
    "f.close()"
   ]
  },
  {
   "cell_type": "code",
   "execution_count": 39,
   "metadata": {},
   "outputs": [
    {
     "name": "stdout",
     "output_type": "stream",
     "text": [
      "['Rakshith ks\\n', 'is\\n', 'a\\n', 'Datascientist']\n"
     ]
    }
   ],
   "source": [
    "f1=open('data.txt','r')\n",
    "#print(f1.readline())\n",
    "print(f1.readlines())\n",
    "f1.close()"
   ]
  },
  {
   "cell_type": "code",
   "execution_count": 35,
   "metadata": {},
   "outputs": [
    {
     "name": "stdout",
     "output_type": "stream",
     "text": [
      "is\n",
      "\n"
     ]
    }
   ],
   "source": [
    "print(f1.readline())"
   ]
  },
  {
   "cell_type": "code",
   "execution_count": 47,
   "metadata": {},
   "outputs": [
    {
     "name": "stdout",
     "output_type": "stream",
     "text": [
      "rak\n"
     ]
    }
   ],
   "source": [
    "f1=open('data.txt','w+')\n",
    "f1.write('rak')\n",
    "f1.seek(0)\n",
    "print(f1.read())\n",
    "f1.close()"
   ]
  },
  {
   "cell_type": "code",
   "execution_count": 58,
   "metadata": {},
   "outputs": [
    {
     "name": "stdout",
     "output_type": "stream",
     "text": [
      "rakks ks ks ks ks\n",
      " rakshith ks\n",
      "rakshith ks\n",
      "rakshith\n"
     ]
    }
   ],
   "source": [
    "f1=open('data.txt','a+')\n",
    "f1.write(' ks\\nrakshith')\n",
    "f1.seek(0)\n",
    "print(f1.read())\n",
    "f1.close()"
   ]
  },
  {
   "cell_type": "code",
   "execution_count": 63,
   "metadata": {},
   "outputs": [
    {
     "name": "stdout",
     "output_type": "stream",
     "text": [
      "\n",
      "Rakshith\n",
      "Narayan\n",
      "Preta\n",
      "Jan\n",
      "\n",
      "Rakshith\n",
      "Narayan\n",
      "Preta\n",
      "Jan\n",
      "\n"
     ]
    }
   ],
   "source": [
    "f2=open('data2.txt','a+')\n",
    "f2.write('\\nRakshith\\nNarayan\\nPreta\\nJan\\n')\n",
    "f2.seek(0)\n",
    "print(f2.read())\n",
    "f2.close()"
   ]
  },
  {
   "cell_type": "code",
   "execution_count": 70,
   "metadata": {},
   "outputs": [],
   "source": [
    "f3=open('data3.txt','a+')\n",
    "f3.writelines(['\\n','rakshith',' ks',' 23'])\n",
    "f3.close()"
   ]
  },
  {
   "cell_type": "code",
   "execution_count": 82,
   "metadata": {},
   "outputs": [
    {
     "name": "stdout",
     "output_type": "stream",
     "text": [
      "rakshithrakshithksrakshithksrakshithks23\n",
      "rakshithks23\n",
      " rakshith ks 23\n",
      "rakshith ks 23rakshithrakshithksrakshithksrakshithks23\n",
      "rakshithks23\n",
      ",rakshith,ks,23\n",
      "rakshith,ks,23\n",
      "rakshithrakshithksrakshithksrakshithks23\n",
      "rakshithks23\n",
      ",rakshith,ks,23\n",
      "rakshith,ks,23rakshithrakshithksrakshithksrakshithks23\n",
      "rakshithks23\n",
      ",rakshith,ks,23\n",
      "rakshith,ks,23\n"
     ]
    }
   ],
   "source": [
    "f3=open('data3.txt','r+')\n",
    "t=f3.read()\n",
    "print(t)\n",
    "text=t.replace(' ',',')\n",
    "print(text)\n",
    "f3.write(text)\n",
    "f3.close()"
   ]
  },
  {
   "cell_type": "code",
   "execution_count": 43,
   "metadata": {},
   "outputs": [],
   "source": [
    "file=open('a.txt','r+')\n",
    "file2=open('b.txt','a+')\n",
    "\n"
   ]
  },
  {
   "cell_type": "code",
   "execution_count": 47,
   "metadata": {},
   "outputs": [],
   "source": [
    "a=file.readlines()\n",
    "s=''\n",
    "for i in a:\n",
    "    t=0\n",
    "    i=i.strip()\n",
    "    i=i.split(',')\n",
    "    t=int(i[0])+int(i[1])\n",
    "    s=str(t)+'\\n'\n",
    "    file2.write(s)\n",
    "    file2.seek(0)\n",
    "file2.close()"
   ]
  },
  {
   "cell_type": "code",
   "execution_count": 38,
   "metadata": {},
   "outputs": [],
   "source": [
    "\n",
    "\n"
   ]
  },
  {
   "cell_type": "code",
   "execution_count": 148,
   "metadata": {},
   "outputs": [],
   "source": [
    "\n"
   ]
  },
  {
   "cell_type": "code",
   "execution_count": null,
   "metadata": {},
   "outputs": [],
   "source": []
  }
 ],
 "metadata": {
  "kernelspec": {
   "display_name": "Python 3",
   "language": "python",
   "name": "python3"
  },
  "language_info": {
   "codemirror_mode": {
    "name": "ipython",
    "version": 3
   },
   "file_extension": ".py",
   "mimetype": "text/x-python",
   "name": "python",
   "nbconvert_exporter": "python",
   "pygments_lexer": "ipython3",
   "version": "3.7.3"
  }
 },
 "nbformat": 4,
 "nbformat_minor": 2
}
